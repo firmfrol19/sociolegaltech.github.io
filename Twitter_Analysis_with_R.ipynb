{
  "cells": [
    {
      "cell_type": "markdown",
      "source": [
        "Notebook Adapted from: https://github.com/ShirinG/blog_posts_prep/blob/master/twitter/twitter_codecentric.Rmd"
      ],
      "metadata": {
        "collapsed": false,
        "outputHidden": false,
        "inputHidden": false
      }
    },
    {
      "cell_type": "markdown",
      "source": [
        "If you are missing libraries, you can install with: "
      ],
      "metadata": {}
    },
    {
      "cell_type": "code",
      "source": [
        "install.packages(\"tidyverse\")\n",
        "install.packages(\"tidytext\")\n",
        "install.packages(\"twitteR\")\n",
        "install.packages(\"data.table\")"
      ],
      "outputs": [],
      "execution_count": null,
      "metadata": {
        "collapsed": false,
        "outputHidden": false,
        "inputHidden": false
      }
    },
    {
      "cell_type": "markdown",
      "source": [
        "Load R Libraries for Analysis"
      ],
      "metadata": {
        "collapsed": false,
        "outputHidden": false,
        "inputHidden": false
      }
    },
    {
      "cell_type": "code",
      "source": [
        "library(tidyverse)\n",
        "library(tidytext)\n",
        "library(twitteR)\n",
        "library(\"data.table\")"
      ],
      "outputs": [],
      "execution_count": null,
      "metadata": {}
    },
    {
      "cell_type": "markdown",
      "source": [
        "Define Your Application Key"
      ],
      "metadata": {}
    },
    {
      "cell_type": "code",
      "source": [
        "consumerKey = \"INSERT KEY HERE\"\n",
        "consumerSecret = \"INSERT SECRET KEY HERE\"\n",
        "accessToken = \"INSERT TOKEN HERE\"\n",
        "accessSecret = \"INSERT SECRET TOKEN HERE\""
      ],
      "outputs": [],
      "execution_count": 1,
      "metadata": {
        "collapsed": false,
        "outputHidden": false,
        "inputHidden": false
      }
    },
    {
      "cell_type": "markdown",
      "source": [
        "Establish your credentials with Twitter"
      ],
      "metadata": {}
    },
    {
      "cell_type": "code",
      "source": [
        "setup_twitter_oauth(consumer_key = consumerKey, \n",
        "                    consumer_secret = consumerSecret, \n",
        "                    access_token = accessToken, \n",
        "                    access_secret = accessSecret)"
      ],
      "outputs": [
        {
          "output_type": "error",
          "ename": "NameError",
          "evalue": "name 'setup_twitter_oauth' is not defined",
          "traceback": [
            "\u001b[0;31m---------------------------------------------------------------------------\u001b[0m",
            "\u001b[0;31mNameError\u001b[0m                                 Traceback (most recent call last)",
            "\u001b[0;32m<ipython-input-2-8713b89bbf3c>\u001b[0m in \u001b[0;36m<module>\u001b[0;34m()\u001b[0m\n\u001b[0;32m----> 1\u001b[0;31m setup_twitter_oauth(consumer_key = consumerKey, \n\u001b[0m\u001b[1;32m      2\u001b[0m                     \u001b[0mconsumer_secret\u001b[0m \u001b[0;34m=\u001b[0m \u001b[0mconsumerSecret\u001b[0m\u001b[0;34m,\u001b[0m\u001b[0;34m\u001b[0m\u001b[0m\n\u001b[1;32m      3\u001b[0m                     \u001b[0maccess_token\u001b[0m \u001b[0;34m=\u001b[0m \u001b[0maccessToken\u001b[0m\u001b[0;34m,\u001b[0m\u001b[0;34m\u001b[0m\u001b[0m\n\u001b[1;32m      4\u001b[0m                     access_secret = accessSecret)\n",
            "\u001b[0;31mNameError\u001b[0m: name 'setup_twitter_oauth' is not defined"
          ]
        }
      ],
      "execution_count": 2,
      "metadata": {
        "collapsed": false,
        "outputHidden": false,
        "inputHidden": false
      }
    },
    {
      "cell_type": "markdown",
      "source": [
        "Define some Utility Functions"
      ],
      "metadata": {}
    },
    {
      "cell_type": "code",
      "source": [
        "# get follower names\n",
        "get_follower_list <- function(userName){\n",
        "  # get user data\n",
        "  twitterUser <- getUser(userName)\n",
        "  twitterUserFollowerIDs<-twitterUser$getFollowers(retryOnRateLimit=1)\n",
        "\n",
        "  # extract the list of followers\n",
        "  return (sapply(twitterUserFollowerIDs,screenName))\n",
        "}\n",
        "\n\n\n",
        "# get follower names\n",
        "get_friend_list <- function(userName){\n",
        "  # get user data\n",
        "  twitterUser <- getUser(userName)\n",
        "  twitterUserFriendIDs<-twitterUser$getFriends(retryOnRateLimit=1)\n",
        "\n",
        "  # extract the list of followers\n",
        "  return (sapply(twitterUserFriendIDs,screenName))\n",
        "}\n",
        "\n",
        "# append rows to dataframe\n",
        "append_to_df<-function(dt, elems)\n",
        "{\n",
        "  return(rbindlist(list(dt,  elems),use.names = TRUE))\n",
        "}"
      ],
      "outputs": [],
      "execution_count": null,
      "metadata": {
        "collapsed": false,
        "outputHidden": false,
        "inputHidden": false
      }
    },
    {
      "cell_type": "markdown",
      "source": [
        "Extract Friends and Followers for a User"
      ],
      "metadata": {}
    },
    {
      "cell_type": "code",
      "source": [
        "# Begin with a certain username\n",
        "coreUserName <- \"sociolegaltech\"\n",
        "twitterUser <- getUser(coreUserName)\n",
        "\n\n",
        "# Extract Followers for the core user\n",
        "twitterUser_follower_IDs <- twitterUser$getFollowers(retryOnRateLimit=10)\n",
        "twitterUser_followers_df = rbindlist(lapply(\n",
        "  twitterUser_follower_IDs,as.data.frame\n",
        "))\n",
        "\n",
        "# Extract Followers for the core user\n",
        "twitterUser_Friend_IDs <- twitterUser$getFriends(retryOnRateLimit=10)\n",
        "twitterUser_Friends_df = rbindlist(lapply(\n",
        "  twitterUser_Friend_IDs,as.data.frame\n",
        "))"
      ],
      "outputs": [],
      "execution_count": null,
      "metadata": {
        "collapsed": false,
        "outputHidden": false,
        "inputHidden": false
      }
    },
    {
      "cell_type": "markdown",
      "source": [
        "Optional to Filter Dummy Accounts"
      ],
      "metadata": {}
    },
    {
      "cell_type": "code",
      "source": [
        "# filter dummy accounts\n",
        "filtered_df <- subset(twitterUser_followers_df,\n",
        "                      followersCount < 100 &\n",
        "                        statusesCount > 100 &\n",
        "                        statusesCount < 5000 &\n",
        "                        protected==FALSE)\n",
        "\n",
        "filtered_follower_IDs <- twitterUser_followers_df$screenName\n",
        "\nfiltered_Friends_IDs <- twitterUser_Friends_df$screenName"
      ],
      "outputs": [],
      "execution_count": null,
      "metadata": {
        "collapsed": false,
        "outputHidden": false,
        "inputHidden": false
      }
    },
    {
      "cell_type": "code",
      "source": [
        "# prepare edge data frame for Follwers\n",
        "edge_df<-data.frame(from=filtered_follower_IDs,\n",
        "                    to=rep('sociolegaltech',\n",
        "                           length(filtered_follower_IDs)),\n",
        "                    stringsAsFactors=FALSE)"
      ],
      "outputs": [
        {
          "output_type": "error",
          "ename": "SyntaxError",
          "evalue": "invalid syntax (<ipython-input-3-0cf615c71237>, line 2)",
          "traceback": [
            "\u001b[0;36m  File \u001b[0;32m\"<ipython-input-3-0cf615c71237>\"\u001b[0;36m, line \u001b[0;32m2\u001b[0m\n\u001b[0;31m    edge_df<-data.frame(from=filtered_follower_IDs,\u001b[0m\n\u001b[0m                           ^\u001b[0m\n\u001b[0;31mSyntaxError\u001b[0m\u001b[0;31m:\u001b[0m invalid syntax\n"
          ]
        }
      ],
      "execution_count": 3,
      "metadata": {
        "collapsed": false,
        "outputHidden": false,
        "inputHidden": false
      }
    },
    {
      "cell_type": "markdown",
      "source": [
        "Compose list of followers"
      ],
      "metadata": {}
    },
    {
      "cell_type": "code",
      "source": [
        "# Iterate and extract list of followers of followers\n",
        "counter = 1\n",
        "for(follower in filtered_follower_IDs){\n",
        "  # fetch follower list for current user\n",
        "  followerScreenNameList <- get_follower_list(follower)\n",
        "\n",
        "  print(paste(\"Processing completed for:\",\n",
        "              follower,\n",
        "              \"(\",counter,\"/\",\n",
        "              length(filtered_follower_IDs),\")\"\n",
        "  ))\n",
        "  # append to edge list\n",
        "  edge_df <- append_to_df(edge_df,list(from=followerScreenNameList,\n",
        "                                       to=rep(follower,\n",
        "                                              length(followerScreenNameList))))\n",
        "  counter <- counter + 1\n",
        "}"
      ],
      "outputs": [],
      "execution_count": null,
      "metadata": {
        "collapsed": false,
        "outputHidden": false,
        "inputHidden": false
      }
    },
    {
      "cell_type": "markdown",
      "source": [],
      "metadata": {}
    },
    {
      "cell_type": "code",
      "source": [
        "# prepare edge data frame for Friends\n",
        "edge_df<-data.frame(from=filtered_Friends_IDs,\n",
        "                    to=rep('sociolegaltech',\n",
        "                           length(filtered_Friends_IDs)),\n",
        "                    stringsAsFactors=FALSE)"
      ],
      "outputs": [],
      "execution_count": null,
      "metadata": {
        "collapsed": false,
        "outputHidden": false,
        "inputHidden": false
      }
    }
  ],
  "metadata": {
    "kernel_info": {
      "name": "python3"
    },
    "language_info": {
      "name": "python",
      "version": "3.6.5",
      "mimetype": "text/x-python",
      "codemirror_mode": {
        "name": "ipython",
        "version": 3
      },
      "pygments_lexer": "ipython3",
      "nbconvert_exporter": "python",
      "file_extension": ".py"
    },
    "kernelspec": {
      "name": "python3",
      "language": "python",
      "display_name": "Python 3"
    },
    "nteract": {
      "version": "0.9.0"
    }
  },
  "nbformat": 4,
  "nbformat_minor": 4
}